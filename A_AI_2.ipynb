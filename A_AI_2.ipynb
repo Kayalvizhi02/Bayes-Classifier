{
  "nbformat": 4,
  "nbformat_minor": 0,
  "metadata": {
    "colab": {
      "provenance": []
    },
    "kernelspec": {
      "name": "python3",
      "display_name": "Python 3"
    },
    "language_info": {
      "name": "python"
    }
  },
  "cells": [
    {
      "cell_type": "code",
      "source": [
        "import numpy as np\n",
        "from sklearn.datasets import load_iris\n",
        "from sklearn.model_selection import train_test_split\n",
        "from sklearn.naive_bayes import GaussianNB\n",
        "from sklearn.metrics import accuracy_score\n",
        "class BayesClassifier:\n",
        "  def __init__(self):\n",
        "    self.clf=GaussianNB()\n",
        "  def fit(self,X,y):\n",
        "    self.clf.fit(X,y)\n",
        "  def predict(self,X):\n",
        "    return self.clf.predict(X)\n",
        "#Load the Iris dataset\n",
        "iris=load_iris()\n",
        "#split the data into training and testing sets\n",
        "X_train,X_test,y_train,y_test=train_test_split(iris.data,iris.target,test_size=0.3,random_state=38)\n",
        "clf=BayesClassifier()\n",
        "clf.fit(X_train,y_train)\n",
        "y_pred=clf.predict(X_test)\n",
        "accuracy=accuracy_score(y_test,y_pred)\n",
        "print(\"Accuracy:\",accuracy)"
      ],
      "metadata": {
        "colab": {
          "base_uri": "https://localhost:8080/"
        },
        "id": "2ah9qYP7PDN-",
        "outputId": "8f9c8c95-c270-4d92-eb9f-c63bb62d3e73"
      },
      "execution_count": 1,
      "outputs": [
        {
          "output_type": "stream",
          "name": "stdout",
          "text": [
            "Accuracy: 0.9777777777777777\n"
          ]
        }
      ]
    },
    {
      "cell_type": "code",
      "source": [],
      "metadata": {
        "id": "OtNGK2voPHEB"
      },
      "execution_count": null,
      "outputs": []
    }
  ]
}